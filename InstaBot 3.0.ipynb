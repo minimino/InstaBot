{
 "cells": [
  {
   "cell_type": "code",
   "execution_count": 1,
   "id": "46037e1b",
   "metadata": {},
   "outputs": [],
   "source": [
    "import json\n",
    "import requests\n",
    "from collections import deque\n",
    "from time import sleep\n",
    "\n",
    "class InstaBot():\n",
    "    def __init__(self, limit = 500000, initialUser = \"\", usersFile = \"users.json\"):\n",
    "        self.usersFile = usersFile\n",
    "        self.usersRemaining = deque()\n",
    "        self.usersRemaining.append(initialUser)\n",
    "        self.usersDone = set()\n",
    "        self.banned = False\n",
    "        self.session = None\n",
    "        self.data = None\n",
    "        self.limit = limit\n",
    "        \n",
    "        with open(self.usersFile, \"r\") as file:\n",
    "            self.data = json.load(file)\n",
    "            file.close()\n",
    "        \n",
    "        self.createSession()\n",
    " \n",
    "    def currentIP(self):\n",
    "        print(\"IP:\", requests.get('https://api.ipify.org', proxies = proxies, headers = {'User-Agent': iphoneUA}).text)\n",
    "\n",
    "    def runBot(self): \n",
    "        count = 0\n",
    "        \n",
    "        while count < self.limit and self.usersRemaining and not self.banned:\n",
    "            self.downloadUserInfo()\n",
    "            count += 1\n",
    "            print(\"User number: \", count)\n",
    "        \n",
    "        # Write json file\n",
    "        with open(self.usersFile, \"w\") as file:\n",
    "            json.dump(self.data, file)\n",
    "            file.close()\n",
    "\n",
    "    def downloadUserInfo(self):\n",
    "        username = self.usersRemaining.pop()\n",
    "        userRoute = \"https://www.instagram.com/{}/?__a=1\".format(username)\n",
    "        \n",
    "        try:\n",
    "            req = self.session.get(userRoute)\n",
    "            userData = req.json()\n",
    "            with open('users/{}.json'.format(username), 'w') as f:\n",
    "                json.dump(userData, f)\n",
    "                f.close()\n",
    "            self.data.append(userData)\n",
    "            self.getRelatedUsers(userData)\n",
    "        except Exception as e:\n",
    "            print(e, username)\n",
    "            self.usersRemaining.appendleft(username)\n",
    "            self.createSession()\n",
    "    \n",
    "    def createSession(self):\n",
    "        iphoneUA = 'Mozilla/5.0 (iPhone; CPU iPhone OS 12_2 like Mac OS X) AppleWebKit/605.1.15 (KHTML, like Gecko) Mobile/15E148'\n",
    "        proxies = {}\n",
    "        self.session = requests.Session()\n",
    "        self.session.headers.update({'User-Agent': iphoneUA})\n",
    "        self.session.proxies.update(proxies)\n",
    "        self.session.max_redirects = 3\n",
    "        \n",
    "    def getRelatedUsers(self, userData):\n",
    "        relatedUsers = userData[\"graphql\"][\"user\"][\"edge_related_profiles\"][\"edges\"]\n",
    "\n",
    "        for user in relatedUsers:\n",
    "            user = user[\"node\"][\"username\"]\n",
    "\n",
    "            if user not in self.usersDone:\n",
    "                self.usersDone.add(user)\n",
    "                self.usersRemaining.append(user)"
   ]
  },
  {
   "cell_type": "code",
   "execution_count": 156,
   "id": "fc634e00",
   "metadata": {},
   "outputs": [],
   "source": [
    "test = InstaBot(limit = 500, initialUser = usersRemaning.pop())"
   ]
  },
  {
   "cell_type": "code",
   "execution_count": 157,
   "id": "65b10a31",
   "metadata": {},
   "outputs": [],
   "source": [
    "test.usersRemaining = usersRemaning \n",
    "test.usersDone = usersDone\n",
    "test.data = data"
   ]
  },
  {
   "cell_type": "code",
   "execution_count": 4,
   "id": "b4fd47dd",
   "metadata": {
    "scrolled": true
   },
   "outputs": [],
   "source": [
    "from requests_html import HTMLSession"
   ]
  },
  {
   "cell_type": "code",
   "execution_count": 22,
   "id": "3fc2122b",
   "metadata": {},
   "outputs": [],
   "source": [
    "iphoneUA = 'Mozilla/5.0 (iPhone; CPU iPhone OS 12_2 like Mac OS X) AppleWebKit/605.1.15 (KHTML, like Gecko) Mobile/15E148'\n",
    "proxies = {'https' : '' }\n",
    "session = requests.session()\n",
    "session.headers.update({'User-Agent': iphoneUA, 'Accept-Language': \"es-ES,es;\"})\n",
    "session.proxies.update(proxies)\n",
    "session.max_redirects = 3"
   ]
  }
 ],
 "metadata": {
  "kernelspec": {
   "display_name": "Python 3 (ipykernel)",
   "language": "python",
   "name": "python3"
  },
  "language_info": {
   "codemirror_mode": {
    "name": "ipython",
    "version": 3
   },
   "file_extension": ".py",
   "mimetype": "text/x-python",
   "name": "python",
   "nbconvert_exporter": "python",
   "pygments_lexer": "ipython3",
   "version": "3.9.7"
  }
 },
 "nbformat": 4,
 "nbformat_minor": 5
}
